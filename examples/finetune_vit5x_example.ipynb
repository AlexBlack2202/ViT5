{
 "cells": [
  {
   "cell_type": "code",
   "execution_count": 1,
   "id": "d8ffa2cd-7349-4320-b334-a25174b014f6",
   "metadata": {},
   "outputs": [
    {
     "name": "stdout",
     "output_type": "stream",
     "text": [
      "Cloning into 'ViT5'...\n",
      "remote: Enumerating objects: 842, done.\u001b[K\n",
      "remote: Counting objects: 100% (133/133), done.\u001b[K\n",
      "remote: Compressing objects: 100% (79/79), done.\u001b[K\n",
      "remote: Total 842 (delta 69), reused 107 (delta 48), pack-reused 709\u001b[K\n",
      "Receiving objects: 100% (842/842), 53.23 MiB | 26.98 MiB/s, done.\n",
      "Resolving deltas: 100% (488/488), done.\n"
     ]
    }
   ],
   "source": [
    "!rm -r ViT5\n",
    "!git clone https://github.com/vietAI/ViT5.git"
   ]
  },
  {
   "cell_type": "code",
   "execution_count": 3,
   "id": "6568ab59-77ee-42e9-8142-5f4fdca89f33",
   "metadata": {},
   "outputs": [
    {
     "name": "stdout",
     "output_type": "stream",
     "text": [
      "Successfully installed argcomplete-2.0.0 boto-2.49.0 crcmod-1.7 cryptography-39.0.0 etils-1.0.0 fasteners-0.18 gcs-oauth2-boto-plugin-3.0 google-apitools-0.5.32 google-reauth-0.1.1 gsutil-5.8 httplib2-0.21.0 lxml-4.9.2 monotonic-1.6 nest-asyncio-1.5.6 oauth2client-4.1.3 pyOpenSSL-23.0.0 pyu2f-0.1.5 retry_decorator-1.1.1 rsa-4.7.2 tensorflow_datasets-4.8.1\n",
      "\u001b[33mWARNING: Running pip as the 'root' user can result in broken permissions and conflicting behaviour with the system package manager. It is recommended to use a virtual environment instead: https://pip.pypa.io/warnings/venv\u001b[0m\u001b[33m\n",
      "\u001b[0m"
     ]
    }
   ],
   "source": [
    "## Install JAX for GPU\n",
    "!pip install jaxlib==0.4.2+cuda11.cudnn86 -f https://storage.googleapis.com/jax-releases/jax_cuda_releases.html\n",
    "## Install T5X and dependencies\n",
    "!cd ViPubmed && python3 setup.py"
   ]
  },
  {
   "cell_type": "code",
   "execution_count": 4,
   "id": "80277b11-d328-41b9-9416-47615cc8ecd0",
   "metadata": {},
   "outputs": [],
   "source": [
    "MODEL_SIZE = \"base\""
   ]
  },
  {
   "cell_type": "code",
   "execution_count": null,
   "id": "522d162b-ce79-4f89-b585-e3ed94f58a64",
   "metadata": {},
   "outputs": [],
   "source": [
    "# download ViPubmedT5X base model\n",
    "!gsutil -m cp -r gs://vietai_public/viT5/ViT5_{MODEL_SIZE} ."
   ]
  },
  {
   "cell_type": "code",
   "execution_count": 7,
   "id": "af85ef06-c3c7-4824-a59c-90456ba28454",
   "metadata": {},
   "outputs": [
    {
     "name": "stdout",
     "output_type": "stream",
     "text": [
      "Copying gs://vietai_public/viT5/data/wikilingua/test.tsv...\n",
      "Copying gs://vietai_public/viT5/data/wikilingua/train.tsv...                    \n",
      "Copying gs://vietai_public/viT5/data/wikilingua/val.tsv...                      \n",
      "| [3 files][ 63.5 MiB/ 63.5 MiB]    8.8 MiB/s                                   \n",
      "Operation completed over 3 objects/63.5 MiB.                                     \n"
     ]
    }
   ],
   "source": [
    "# download vietnews or wikilingua dataset\n",
    "!gsutil cp -r gs://vietai_public/viT5/data/wikilingua .\n",
    "# !gsutil cp -r gs://vietai_public/viT5/data/vietnews .\n"
   ]
  },
  {
   "cell_type": "code",
   "execution_count": null,
   "id": "e6b80d14-21d3-4d61-a1fa-b636cd59e027",
   "metadata": {},
   "outputs": [],
   "source": [
    "############################### Generation Task ##########################\n",
    "############################### wikilingua ###############################\n",
    "MODEL_SIZE = \"base\"\n",
    "task = 'wikilingua'\n",
    "train_file = f'{task}/train.tsv'\n",
    "test_file = f'{task}/test.tsv'\n",
    "dev_file = f'{task}/dev.tsv'\n",
    "\n",
    "model_dir = f'out/{task}/vit5_{MODEL_SIZE}'\n",
    "pretrained_path=f'ViT5_{MODEL_SIZE}/checkpoint_1000000'\n",
    "\n",
    "gin_file = f'ViT5/configs/runs/{MODEL_SIZE}_finetune.gin'\n",
    "metric = 'rouge'\n",
    "\n",
    "# Train settings\n",
    "batch_size = 32\n",
    "features_length = {\"inputs\": 1024, \"targets\": 256}\n",
    "train_steps = 10000 + 1500000 # 1000 finetune steps + 1.5M pretraining step\n",
    "save_period = train_steps\n",
    "eval_period = train_steps\n",
    "\n",
    "!python3 'ViPubmed/src/finetune_t5x.py' \\\n",
    "  --gin_file=\"{gin_file}\" \\\n",
    "  --gin.MODEL_DIR=\"'{model_dir}'\" \\\n",
    "  --gin.INITIAL_CHECKPOINT_PATH=\"'{pretrained_path}'\" \\\n",
    "  --gin.TRAIN_STEPS='{train_steps}' \\\n",
    "  --gin.SAVE_PERIOD='{save_period}'\\\n",
    "  --gin.EVAL_PERIOD='{eval_period}'\\\n",
    "  --gin.MIXTURE_OR_TASK_NAME=\"'{task}'\" \\\n",
    "  --gin.TASK_FEATURE_LENGTHS=\"{features_length}\" \\\n",
    "  --gin.BATCH_SIZE='{batch_size}' \\\n",
    "  --task=\"{task}\" \\\n",
    "  --metric=\"{metric}\" \\\n",
    "  --train_file=\"{train_file}\" \\\n",
    "  --predict_file=\"{test_file}\" # or {dev_file}\n"
   ]
  },
  {
   "cell_type": "code",
   "execution_count": null,
   "id": "9f783b95-3880-4860-ac20-eba207d3a369",
   "metadata": {},
   "outputs": [],
   "source": [
    "############################### Classification Task ##########################\n",
    "############################### ViMedNLI #####################################\n",
    "############## https://arxiv.org/abs/2210.05610 ##############################\n",
    "\n",
    "!mkdir vi_mednli\n",
    "!wget -O vi_mednli/dev.tsv https://raw.githubusercontent.com/vietai/ViPubmed/main/data/vi_mednli/dev_vi_refined.tsv \n",
    "!wget -O vi_mednli/test.tsv https://raw.githubusercontent.com/vietai/ViPubmed/main/data/vi_mednli/test_vi_refined.tsv \n",
    "!wget -O vi_mednli/train.tsv https://raw.githubusercontent.com/vietai/ViPubmed/main/data/vi_mednli/train_vi_refined.tsv \n",
    "\n",
    "############################### vimednli ###############################\n",
    "\n",
    "MODEL_SIZE = \"base\"\n",
    "task = 'vi_mednli'\n",
    "train_file = f'{task}/train.tsv'\n",
    "test_file = f'{task}/test.tsv'\n",
    "dev_file = f'{task}/dev.tsv'\n",
    "\n",
    "model_dir = f'out/{task}/vit5_base'\n",
    "pretrained_path=f'vip_{MODEL_SIZE}/checkpoint_1500000'\n",
    "\n",
    "gin_file = f'ViPubmed/configs/runs/{MODEL_SIZE}_finetune.gin'\n",
    "\n",
    "metric = 'accuracy'\n",
    "\n",
    "# Train settings\n",
    "batch_size = 64\n",
    "features_length = {\"inputs\": 128, \"targets\": 6}\n",
    "train_steps = 4800 + 1500000 # 1000 finetune steps + 1.5M pretraining step\n",
    "save_period = train_steps\n",
    "eval_period = 4800\n",
    "learning_rate = 0.0005\n",
    "\n",
    "!python3 'ViPubmed/src/finetune_t5x.py' \\\n",
    "  --gin_file=\"{gin_file}\" \\\n",
    "  --gin.MODEL_DIR=\"'{model_dir}'\" \\\n",
    "  --gin.INITIAL_CHECKPOINT_PATH=\"'{pretrained_path}'\" \\\n",
    "  --gin.TRAIN_STEPS='{train_steps}' \\\n",
    "  --gin.SAVE_PERIOD='{save_period}'\\\n",
    "  --gin.EVAL_PERIOD='{eval_period}'\\\n",
    "  --gin.MIXTURE_OR_TASK_NAME=\"'{task}'\" \\\n",
    "  --gin.LEARNING_RATE='{learning_rate}' \\\n",
    "  --gin.TASK_FEATURE_LENGTHS=\"{features_length}\" \\\n",
    "  --gin.BATCH_SIZE='{batch_size}' \\\n",
    "  --task=\"{task}\" \\\n",
    "  --metric=\"{metric}\" \\\n",
    "  --train_file=\"{train_file}\" \\\n",
    "  --predict_file=\"{test_file}\" # or {dev_file}\n",
    "\n"
   ]
  }
 ],
 "metadata": {
  "kernelspec": {
   "display_name": "Python 3 (ipykernel)",
   "language": "python",
   "name": "python3"
  },
  "language_info": {
   "codemirror_mode": {
    "name": "ipython",
    "version": 3
   },
   "file_extension": ".py",
   "mimetype": "text/x-python",
   "name": "python",
   "nbconvert_exporter": "python",
   "pygments_lexer": "ipython3",
   "version": "3.9.13"
  },
  "vscode": {
   "interpreter": {
    "hash": "eedb55a3f3d5a08c90a45b02edd9d5201f64a9996f64fdac14a22b56503f46e8"
   }
  }
 },
 "nbformat": 4,
 "nbformat_minor": 5
}
